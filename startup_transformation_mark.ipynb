{
 "cells": [
  {
   "cell_type": "markdown",
   "metadata": {},
   "source": [
    "Startup Transformation\n",
    "In this project, you’ll work as a data analyst for a tech startup that is looking to improve its operations after a global pandemic has taken the world by storm.\n",
    "\n",
    "You will apply data transformation techniques to make better sense of the company’s data and help answer important questions such as:\n",
    "\n",
    "Is the company in good financial health?\n",
    "Does the company need to let go of any employees?\n",
    "Should the company allow employees to work from home permanently?\n",
    "Let’s get started!\n",
    "\n",
    "Setup Instructions\n",
    "You have two options of completing this assignment. Either here, within Codecademy’s output terminal, or on your own, in case you’re more comfortable using a Jupyter notebook.If you choose to do this project on your computer instead of Codecademy, you can download what you’ll need by clicking the “Download” button below. If you need help setting up your computer, be sure to check out our setup guides:\n",
    "\n",
    "Command Line Interface Setup\n",
    "Introducing Jupyter Notebook\n",
    "Setting up Jupyter Notebook\n",
    "Getting Started with Jupyter\n",
    "Getting More out of Jupyter Notebook\n",
    "Open Startup Transformation.ipynb and follow the steps in the Jupyter Notebook. If you get stuck, you can look at Startup Transformation_Solution.ipynb for the answer.\n",
    "\n",
    "\n",
    "Tasks\n",
    "0/21 Complete\n",
    "Mark the tasks as complete by checking them off\n",
    "  \n",
    "  \n",
    "Analyzing Revenue and Expenses  \n",
    "1. The management team of the company you work for is concerned about the status of the company after a global pandemic.\n",
    "\n",
    "The CFO (Chief Financial Officer) asks you to perform some data analysis on the past six months of the company’s financial data, which has been loaded in the variable financial_data.\n",
    "\n",
    "First, examine the first few rows of the data using print() and .head().\n",
    "\n",
    "\n",
    "\n",
    "2. Notice that financial_data has three columns – Month, Revenue, and Expenses.\n",
    "\n",
    "Store each column in three separate variables called month, revenue, and expenses.\n",
    "\n",
    "\n",
    "\n",
    "3. Next, use the following code to create a plot of revenue over the past six months:\n",
    "\n",
    "plt.plot(month,revenue)  \n",
    "plt.show()  \n",
    "\n",
    "\n",
    "4. On the right, you should now see a plot of revenue over time. You can label and format the figure using the following functions:\n",
    "\n",
    "plt.xlabel('Month')  \n",
    "plt.ylabel('Amount ($)')  \n",
    "plt.title('Revenue')  \n",
    "These should be added before plt.show(). Add the labels to your plot.\n",
    "\n",
    "5. Repeat steps 3 and 4 for monthly expenses. In other words, create a second plot of monthly expenses over the past 6 months. Note that you’ll need to use the function plot.clf() prior to creating this new plot. Otherwise, it will be plotted on-top of the revenue plot. The code should look something like this:\n",
    "\n",
    "plt.clf()  \n",
    "#insert code to create plot here  \n",
    "#add labels to the plot here  \n",
    "plt.show()  \n",
    "How are monthly expenses changing over time?\n",
    "\n",
    "\n",
    "\n",
    "6. As shown, revenue seems to be quickly decreasing while expenses are increasing. If the current trend continues, expenses will soon surpass revenues, putting the company at risk.\n",
    "\n",
    "After you show this chart to the management team, they are alarmed. They conclude that expenses must be cut immediately and give you a new file to analyze called expenses.csv.\n",
    "\n",
    "Use pandas to read in expenses.csv and store it in a variable called expense_overview.\n",
    "\n",
    "Print the first seven rows of the data.\n",
    "\n",
    "\n",
    "\n",
    "Pie Chart and Collapsing Categories\n",
    "7. Notice that there are two columns:\n",
    "\n",
    "Expense: indicates the expense category\n",
    "Proportion: indicates how much of the overall expenses a specific category takes up\n",
    "Store the Expense column in a variable called expense_categories and the Proportion column in a variable called proportions.\n",
    "\n",
    "\n",
    "\n",
    "8. Next, we want to create a pie chart of the different expense categories. Use plt.clf() again to clear the previous plot, then create a pie chart using the plt.pie() method, passing in two arguments:\n",
    "\n",
    "proportions  \n",
    "labels = expense_categories  \n",
    "Give your pie chart a title using plt.title(), then use plt.show() at the end to show the plot.\n",
    "\n",
    "\n",
    "\n",
    "9. Notice that the pie chart currently looks deformed.\n",
    "\n",
    "Above plt.show(), add in the following two lines of code to set the axis and adjust the spacing:\n",
    "\n",
    "plt.axis('Equal')  \n",
    "plt.tight_layout()  \n",
    "Take a moment to look at the pie chart. Which expense categories make up most of the data, and which ones aren’t so significant?\n",
    "\n",
    "\n",
    "\n",
    "10. It seems that Salaries, Advertising, and Office Rent make up most of the expenses, while the rest of the categories make up a small percentage.\n",
    "\n",
    "Before you hand this pie chart back to management, you would like to update the pie chart so that all categories making up less than 5% of the overall expenses (Equipment, Utilities, Supplies, and Food) are collapsed into an “Other” category.\n",
    "\n",
    "Update the pie chart accordingly.\n",
    "\n",
    "\n",
    "\n",
    "11. You should now see four categories in your updated pie chart:\n",
    "\n",
    "Salaries  \n",
    "Advertising  \n",
    "Office Rent  \n",
    "Other  \n",
    "This simplified pie chart helps the management team see a big picture view of the company’s expenses without getting distracted by noisy data.\n",
    "\n",
    "If the company wants to cut costs in a big way, which category do you think they should focus on? Put your answer in a string variable called expense_cut.\n",
    "\n",
    "\n",
    "\n",
    "Employee Productivity\n",
    "12. Salaries make up 62% of expenses. The management team determines that to cut costs in a meaningful way, they must let go of some employees.\n",
    "\n",
    "Each employee at the company is assigned a productivity score based on their work. The management would like to keep the most highly productive employees and let go of the least productive employees.\n",
    "\n",
    "First, use pandas to load in employees.csv and store it in a variable called employees.\n",
    "\n",
    "Print the first few rows of the data.\n",
    "\n",
    "\n",
    "\n",
    "13. Notice that there is a Productivity column, which indicates the productivity score assigned to that employee.\n",
    "\n",
    "Sort the employees data frame (in ascending order) by the Productivity column and store the result in a variable called sorted_productivity.\n",
    "\n",
    "To sort a data frame, you can do the following:  \n",
    "\n",
    "sorted_data = dataframe_name.sort_values(by=['Column Name'])  \n",
    "Print sorted_productivity.  \n",
    "\n",
    "\n",
    "\n",
    "14. You should now see the employees with the lowest productivity scores at the top of the data frame.\n",
    "\n",
    "The company decides to let go of the 100 least productive employees.\n",
    "\n",
    "Store the first 100 rows of sorted_productivity in a new variable called employees_cut and print out the result.\n",
    "\n",
    "Unfortunately, this batch of employees won’t be so lucky.\n",
    "\n",
    "\n",
    "\n",
    "15. Your colleague Sarah, a data scientist at the company, would like to explore the relationship between Income and Productivity more in depth, but she points out that these two features are on vastly different scales.\n",
    "\n",
    "For example, productivity is a feature that ranges from 0-100, but income is measured in the thousands of dollars.\n",
    "\n",
    "Moreover, there are outliers in the data that add an additional layer of complexity.\n",
    "\n",
    "She asks you for advice on how she should transform the data. Should she perform normalization, standardization, log transformation, or something else?\n",
    "\n",
    "Put your answer in a string in a variable called transformation.\n",
    "\n",
    "\n",
    "\n",
    "Commute Times and Log Transformation\n",
    "16. The COO (Chief Operating Officer) is debating whether to allow employees to continue to work from home post-pandemic.\n",
    "\n",
    "He first wants to take a look at roughly how long the average commute time is for employees at the company. He asks for your help to analyze this data.\n",
    "\n",
    "The employees data frame has a column called Commute Time that stores the commute time (in minutes) for each employee.\n",
    "\n",
    "Create a variable called commute_times that stores the Commute Time column.\n",
    "\n",
    "\n",
    "\n",
    "17. Let’s do some quick analysis on the commute times of employees.\n",
    "\n",
    "Use print() and .describe() to print out descriptive statistics for commute_times.\n",
    "\n",
    "What are the average and median commute times? Might it be worth it for the company to explore allowing remote work indefinitely so employees can save time during the day?\n",
    "\n",
    "\n",
    "\n",
    "18.Let’s explore the shape of the commute time data using a histogram.\n",
    "\n",
    "First, use plt.clf() to clear the previous plots. Then use plt.hist() to plot the histogram of commute_times. Finally, use plt.show() to show the plot. Feel free to add labels above plt.show() if you would like to practice!\n",
    "\n",
    "What do you notice about the shape of the data? Is it symmetric, left skewed, or right skewed?\n",
    "\n",
    "\n",
    "\n",
    "19. The data seems to be skewed to the right. To make it more symmetrical, we might try applying a log transformation.\n",
    "\n",
    "Right under the commute_times variable, create a variable called commute_times_log that stores a log-transformed version of commute_times.\n",
    "\n",
    "To apply log-transform, you can use numpy’s log() function.\n",
    "\n",
    "\n",
    "\n",
    "20. Replace the histogram for commute_times with one for commute_times_log.\n",
    "\n",
    "Notice how the shape of the data changes from being right skewed to a more symmetrical (and even slightly left-skewed) in shape. After applying log transformation, the transformed data is more “normal” than before.\n",
    "\n",
    "\n",
    "\n",
    "Extra\n",
    "21. Congratulations! In this project, you performed data analysis to help a management team answer important questions about the status of the company during a difficult time.\n",
    "\n",
    "You did this by analyzing data sets and applying common data transformation techniques. These are important skills to have as a data analyst.\n",
    "\n",
    "If you’d like extra practice with data transformations, here are some suggestions to extend this project:\n",
    "\n",
    "Apply standardization to the employees data using StandardScaler() from sklearn. Refer to this article if you need help.\n",
    "Explore the income and productivity features in more detail. Can you find a relationship between productivity and income?\n",
    "Happy coding!"
   ]
  },
  {
   "cell_type": "code",
   "execution_count": 3,
   "metadata": {},
   "outputs": [
    {
     "name": "stdout",
     "output_type": "stream",
     "text": [
      "   Month  Revenue  Expenses\n",
      "0      1  1420000    510000\n",
      "1      2  1200000    532000\n",
      "2      3  1050000    551000\n",
      "3      4   920000    612000\n",
      "4      5   807000    628000\n",
      "5      6   720000    644000\n"
     ]
    }
   ],
   "source": [
    "from sklearn import preprocessing\n",
    "import matplotlib.pyplot as plt\n",
    "import pandas as pd\n",
    "import seaborn as sns\n",
    "import numpy as np\n",
    "\n",
    "# load in financial data\n",
    "financial_data = pd.read_csv('financial_data.csv')\n",
    "print(financial_data.head(10))\n"
   ]
  },
  {
   "cell_type": "code",
   "execution_count": 4,
   "metadata": {},
   "outputs": [],
   "source": [
    "month = financial_data['Month']\n",
    "revenue = financial_data['Revenue']\n",
    "expenses = financial_data['Expenses']"
   ]
  },
  {
   "cell_type": "code",
   "execution_count": 5,
   "metadata": {},
   "outputs": [
    {
     "data": {
      "image/png": "[encoded data removed]",
      "text/plain": [
       "<Figure size 432x288 with 1 Axes>"
      ]
     },
     "metadata": {
      "needs_background": "light"
     },
     "output_type": "display_data"
    }
   ],
   "source": [
    "plt.plot(month,revenue)\n",
    "plt.show()"
   ]
  },
  {
   "cell_type": "code",
   "execution_count": 6,
   "metadata": {},
   "outputs": [
    {
     "data": {
      "image/png": "[encoded data removed]",
      "text/plain": [
       "<Figure size 432x288 with 1 Axes>"
      ]
     },
     "metadata": {
      "needs_background": "light"
     },
     "output_type": "display_data"
    }
   ],
   "source": [
    "plt.xlabel('Month')\n",
    "plt.ylabel('Amount ($)')\n",
    "plt.title('Revenue')\n",
    "plt.plot(month,revenue)\n",
    "plt.show()"
   ]
  },
  {
   "cell_type": "code",
   "execution_count": 7,
   "metadata": {},
   "outputs": [
    {
     "data": {
      "image/png": "[encoded data removed]",
      "text/plain": [
       "<Figure size 432x288 with 1 Axes>"
      ]
     },
     "metadata": {
      "needs_background": "light"
     },
     "output_type": "display_data"
    }
   ],
   "source": [
    "plt.clf()\n",
    "plt.xlabel('Month')\n",
    "plt.ylabel('Amounts ($)')\n",
    "plt.title('Expenses')\n",
    "plt.plot(month,expenses)\n",
    "plt.show()\n"
   ]
  },
  {
   "cell_type": "code",
   "execution_count": 8,
   "metadata": {},
   "outputs": [
    {
     "name": "stdout",
     "output_type": "stream",
     "text": [
      "       Expense  Proportion\n",
      "0     Salaries        0.62\n",
      "1  Advertising        0.15\n",
      "2  Office Rent        0.15\n",
      "3    Equipment        0.03\n",
      "4    Utilities        0.03\n",
      "5      Supples        0.01\n",
      "6         Food        0.01\n"
     ]
    }
   ],
   "source": [
    "expense_overview = pd.read_csv(\"expenses.csv\")\n",
    "print(expense_overview.head(7))"
   ]
  },
  {
   "cell_type": "code",
   "execution_count": 16,
   "metadata": {},
   "outputs": [
    {
     "name": "stdout",
     "output_type": "stream",
     "text": [
      "0       Salaries\n",
      "1    Advertising\n",
      "2    Office Rent\n",
      "3      Equipment\n",
      "4      Utilities\n",
      "5        Supples\n",
      "6           Food\n",
      "Name: Expense, dtype: object\n",
      "0    0.62\n",
      "1    0.15\n",
      "2    0.15\n",
      "3    0.03\n",
      "4    0.03\n",
      "5    0.01\n",
      "6    0.01\n",
      "Name: Proportion, dtype: float64\n"
     ]
    }
   ],
   "source": [
    "expense_categories = expense_overview['Expense']\n",
    "proportions = expense_overview['Proportion']\n",
    "print(expense_categories)\n",
    "print(proportions)"
   ]
  },
  {
   "cell_type": "code",
   "execution_count": 12,
   "metadata": {},
   "outputs": [
    {
     "data": {
      "image/png": "[encoded data removed]",
      "text/plain": [
       "<Figure size 432x288 with 1 Axes>"
      ]
     },
     "metadata": {},
     "output_type": "display_data"
    }
   ],
   "source": [
    "plt.clf()\n",
    "# plt.pie(proportions, labels=expense_categories)\n",
    "plt.pie(proportions, labels=expense_categories, normalize=False)\n",
    "plt.title(\"Expense Proportions\")\n",
    "plt.show()"
   ]
  },
  {
   "cell_type": "code",
   "execution_count": 13,
   "metadata": {},
   "outputs": [
    {
     "data": {
      "image/png": "[encoded data removed]",
      "text/plain": [
       "<Figure size 432x288 with 1 Axes>"
      ]
     },
     "metadata": {},
     "output_type": "display_data"
    }
   ],
   "source": [
    "plt.clf()\n",
    "# plt.pie(proportions, labels=expense_categories)\n",
    "# MatplotlibDeprecationWarning: normalize=None does not normalize \n",
    "# if the sum is less than 1 but this behavior is deprecated since 3.3 \n",
    "# until two minor releases later. After the deprecation period the default value \n",
    "# will be normalize=True. To prevent normalization pass normalize=False \n",
    "#   plt.pie(proportions, labels = expense_categories)\n",
    "\n",
    "plt.pie(proportions, labels=expense_categories, normalize=False)\n",
    "plt.title(\"Expense Proportions\")\n",
    "plt.axis('Equal')\n",
    "plt.tight_layout()\n",
    "plt.show()"
   ]
  },
  {
   "cell_type": "code",
   "execution_count": 18,
   "metadata": {},
   "outputs": [
    {
     "data": {
      "image/png": "[encoded data removed]",
      "text/plain": [
       "<Figure size 432x288 with 1 Axes>"
      ]
     },
     "metadata": {},
     "output_type": "display_data"
    }
   ],
   "source": [
    "# Original expense_categories\n",
    "# ['Salaries', 'Advertising', 'Office Rent', 'Equipment', 'Utilities', 'Supples', 'Food']\n",
    "# New expense_categories\n",
    "# ['Salaries', 'Advertising', 'Office Rent', 'Other']\n",
    "\n",
    "# Original proportions\n",
    "# [0.62, 0.15, 0.15, 0.03, 0.03, 0.01, 0.01]\n",
    "# New proportions\n",
    "# [0.62, 0.15, 0.15, 0.08]\n",
    "\n",
    "expense_categories = ['Salaries', 'Advertising', 'Office Rent', 'Other']\n",
    "proportions = [0.62, 0.15, 0.15, 0.08]\n",
    "plt.clf()\n",
    "# plt.pie(proportions, labels = expense_categories)\n",
    "# MatplotlibDeprecationWarning: normalize=None does not normalize \n",
    "# if the sum is less than 1 but this behavior is deprecated since 3.3 \n",
    "# until two minor releases later. After the deprecation period the default value \n",
    "# will be normalize=True. To prevent normalization pass normalize=False \n",
    "#   plt.pie(proportions, labels = expense_categories)\n",
    "\n",
    "plt.pie(proportions, labels=expense_categories, normalize=False)\n",
    "plt.title('Expense Categories')\n",
    "plt.axis('Equal')\n",
    "plt.tight_layout()\n",
    "plt.show()"
   ]
  },
  {
   "cell_type": "code",
   "execution_count": null,
   "metadata": {},
   "outputs": [],
   "source": [
    "# If the company wants to cut costs in a big way, which category do you think \n",
    "# they should focus on? Put your answer in a string variable called expense_cut.\n",
    "# expense_cut = \"Salaries\""
   ]
  },
  {
   "cell_type": "code",
   "execution_count": 19,
   "metadata": {},
   "outputs": [
    {
     "name": "stdout",
     "output_type": "stream",
     "text": [
      "                Name  Salary  Productivity  Commute Time\n",
      "0     Mason Pender     87902         29.91         16.79\n",
      "1          Mia Rew     95672         49.91         44.48\n",
      "2   Jalisa Kroenke    177864         78.00         19.40\n",
      "3  Krystal Homeyer    186643         24.36         42.06\n",
      "4    Kiana Wishart    167148          4.08         25.58\n"
     ]
    }
   ],
   "source": [
    "employees = pd.read_csv('employees.csv')\n",
    "print(employees.head())"
   ]
  },
  {
   "cell_type": "code",
   "execution_count": 20,
   "metadata": {},
   "outputs": [
    {
     "name": "stdout",
     "output_type": "stream",
     "text": [
      "                  Name  Salary  Productivity  Commute Time\n",
      "259       Wilber Rye    111647          0.06         49.42\n",
      "92    Fredric Gandee    154469          0.24         22.48\n",
      "252  Johnson Fordham    168684          1.46         22.39\n",
      "178    Lilia Lemoine    167579          1.67         27.36\n",
      "162   Hilma Laughton     85506          1.79         36.41\n",
      "..                 ...     ...           ...           ...\n",
      "164      Miki Hartle     50856         99.54         31.39\n",
      "88        Darell Nau     30530         99.63         44.25\n",
      "23    Joaquina Neece     95562         99.66         48.65\n",
      "202    Janae Officer    110139         99.69         15.45\n",
      "6    Jacinta Dunford    130968         99.98         44.53\n",
      "\n",
      "[300 rows x 4 columns]\n"
     ]
    }
   ],
   "source": [
    "sorted_productivity = employees.sort_values(by=['Productivity'])\n",
    "print(sorted_productivity)"
   ]
  },
  {
   "cell_type": "code",
   "execution_count": 21,
   "metadata": {},
   "outputs": [
    {
     "name": "stdout",
     "output_type": "stream",
     "text": [
      "                       Name  Salary  Productivity  Commute Time\n",
      "259            Wilber Rye    111647          0.06         49.42\n",
      "92         Fredric Gandee    154469          0.24         22.48\n",
      "252       Johnson Fordham    168684          1.46         22.39\n",
      "178         Lilia Lemoine    167579          1.67         27.36\n",
      "162        Hilma Laughton     85506          1.79         36.41\n",
      "..                      ...     ...           ...           ...\n",
      "43   Bernardo Klingenberg     55464         34.52         32.27\n",
      "186        Ashleigh Istre    178627         34.70         38.67\n",
      "288       Penni Kimbrough    142680         35.21         49.64\n",
      "269      Margot Mackenzie    114302         35.79         19.87\n",
      "218        Quinn Frampton     44000         36.36         34.12\n",
      "\n",
      "[100 rows x 4 columns]\n"
     ]
    }
   ],
   "source": [
    "employees_cut = sorted_productivity.head(100)\n",
    "print(employees_cut)"
   ]
  },
  {
   "cell_type": "code",
   "execution_count": null,
   "metadata": {},
   "outputs": [],
   "source": [
    "# ... would like to explore the relationship between Income and Productivity more in depth, \n",
    "# but she points out that these two features are on vastly different scales.\n",
    "# ... Moreover, there are outliers in the data that add an additional layer of complexity.\n",
    "# ... Should she perform normalization, standardization, log transformation, or something else?\n",
    "\n",
    "# The presense of outliers suggests the us of standardization.\n",
    "# The presense of salaries suggests skewed data towards low salaries, which suggests the \n",
    "# use of log transformation.\n",
    "# transformation = \"log transformation\""
   ]
  },
  {
   "cell_type": "code",
   "execution_count": 23,
   "metadata": {},
   "outputs": [
    {
     "name": "stdout",
     "output_type": "stream",
     "text": [
      "33.44169999999999\n",
      "31.060000000000002\n",
      "count    300.000000\n",
      "mean      33.441700\n",
      "std       16.128369\n",
      "min        3.220000\n",
      "25%       21.667500\n",
      "50%       31.060000\n",
      "75%       42.190000\n",
      "max      101.780000\n",
      "Name: Commute Time, dtype: float64\n"
     ]
    }
   ],
   "source": [
    "commute_times = employees['Commute Time']\n",
    "commute_mean = np.mean(commute_times)\n",
    "commute_median = np.median(commute_times)\n",
    "print(commute_mean)\n",
    "print(commute_median)\n",
    "\n",
    "print(commute_times.describe())"
   ]
  },
  {
   "cell_type": "code",
   "execution_count": 26,
   "metadata": {},
   "outputs": [
    {
     "data": {
      "image/png": "[encoded data removed]",
      "text/plain": [
       "<Figure size 432x288 with 1 Axes>"
      ]
     },
     "metadata": {
      "needs_background": "light"
     },
     "output_type": "display_data"
    }
   ],
   "source": [
    "plt.clf()\n",
    "plt.hist(commute_times)\n",
    "plt.title('Commute Times')\n",
    "plt.xlabel('Time in minutes')\n",
    "plt.ylabel('Number of Employees')\n",
    "plt.show()\n",
    "# Right skewed"
   ]
  },
  {
   "cell_type": "code",
   "execution_count": 29,
   "metadata": {},
   "outputs": [
    {
     "data": {
      "image/png": "[encoded data removed]",
      "text/plain": [
       "<Figure size 432x288 with 1 Axes>"
      ]
     },
     "metadata": {
      "needs_background": "light"
     },
     "output_type": "display_data"
    }
   ],
   "source": [
    "plt.clf()\n",
    "commute_times_log = np.log(commute_times)\n",
    "plt.hist(commute_times_log)\n",
    "plt.title('Log of Commute Times')\n",
    "plt.xlabel('Lof of Time in minutes')\n",
    "plt.ylabel('Number of Employees')\n",
    "plt.show()\n",
    "# Right skewed"
   ]
  }
 ],
 "metadata": {
  "kernelspec": {
   "display_name": "Python 3.8.8 ('base')",
   "language": "python",
   "name": "python3"
  },
  "language_info": {
   "codemirror_mode": {
    "name": "ipython",
    "version": 3
   },
   "file_extension": ".py",
   "mimetype": "text/x-python",
   "name": "python",
   "nbconvert_exporter": "python",
   "pygments_lexer": "ipython3",
   "version": "3.8.8"
  },
  "orig_nbformat": 4,
  "vscode": {
   "interpreter": {
    "hash": "4d6979881df6e222f622e5c452613767b84695145e0c10696727ea7f3c022c7e"
   }
  }
 },
 "nbformat": 4,
 "nbformat_minor": 2
}
